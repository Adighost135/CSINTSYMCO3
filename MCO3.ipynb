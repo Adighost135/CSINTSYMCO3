{
  "cells": [
    {
      "cell_type": "markdown",
      "source": [
        "# MCO3\n",
        "S13 - Group 2\n",
        "1.   Bryce Andrei C. Miranda\n",
        "2.   Ron William M. Cajumban\n",
        "3.   Timothy Robert P. Bacud\n",
        "\n",
        "\n",
        "\n"
      ],
      "metadata": {
        "id": "myNXucIhcqzo"
      }
    },
    {
      "cell_type": "markdown",
      "source": [
        "# Introduction"
      ],
      "metadata": {
        "id": "cEpINHM3Rkv9"
      }
    },
    {
      "cell_type": "markdown",
      "source": [
        "In this Machine Learning (ML) Paper, the researchers aim to utilize a dataset of most streamed blues Spotify songs to recognize what made a song popular; using the \"Track Score\" feature found in Spotify. Track score is the value that measures the popularity metric for each track. According to Kaggle, the track score is a value that depends on multiple features attributed to a track. It is unknown how a track score is rated even in Spotify's features; Thus by utilizing pre-existing features and running the data through a ML model, it is possible to ascertain the rules that make up Spotify's track score."
      ],
      "metadata": {
        "id": "ZMq_WqnSSAg7"
      }
    },
    {
      "cell_type": "code",
      "execution_count": null,
      "metadata": {
        "id": "tTgp8QzAQ3cQ"
      },
      "outputs": [],
      "source": [
        "import pandas as pd\n",
        "import numpy as np\n",
        "from sklearn.model_selection import train_test_split\n",
        "from sklearn.preprocessing import StandardScaler, LabelEncoder, KBinsDiscretizer\n",
        "from sklearn.naive_bayes import GaussianNB\n",
        "from sklearn.metrics import confusion_matrix, classification_report, accuracy_score\n",
        "import seaborn as sns\n",
        "import matplotlib.pyplot as plt\n",
        "from sklearn.inspection import permutation_importance\n",
        "from scipy import stats\n"
      ]
    },
    {
      "cell_type": "markdown",
      "source": [
        "# Dataset"
      ],
      "metadata": {
        "id": "xJx0nTKZLkEh"
      }
    },
    {
      "cell_type": "markdown",
      "source": [
        "## Pre-Processing of data\n",
        "\n"
      ],
      "metadata": {
        "id": "f0c2bFS_e2fN"
      }
    },
    {
      "cell_type": "markdown",
      "metadata": {
        "id": "MSH0OL8JQ3cL"
      },
      "source": [
        "The researchers used the following data from Kaggle:\n",
        "https://www.kaggle.com/datasets/nelgiriyewithana/most-streamed-spotify-songs-2024/data."
      ]
    },
    {
      "cell_type": "code",
      "execution_count": null,
      "metadata": {
        "id": "ANjcQrkKQ3cS"
      },
      "outputs": [],
      "source": [
        "df = pd.read_csv('data.csv', encoding='latin-1')\n",
        "df = df[['Track', 'Album Name', 'Artist', 'Release Date', 'All Time Rank', 'Track Score', 'Spotify Streams', 'Spotify Playlist Count', 'Spotify Playlist Reach', 'Spotify Popularity', 'YouTube Views', 'TikTok Views', 'Soundcloud Streams', 'Pandora Streams', 'Shazam Counts', 'AirPlay Spins', 'Explicit Track']]\n",
        "df.columns = df.columns.str.strip()\n",
        "\n",
        "numerical_columns = [\n",
        "    'All Time Rank', 'Track Score', 'Spotify Streams', 'YouTube Views', 'TikTok Views', 'Soundcloud Streams', 'Pandora Streams', 'Shazam Counts', 'AirPlay Spins'\n",
        "]\n",
        "\n",
        "for column in numerical_columns:\n",
        "    df[column] = df[column].astype(str).str.replace(',', '').astype(float)\n",
        "\n",
        "df.fillna(0, inplace=True)\n",
        "\n",
        "# Extract relevant columns\n",
        "X = df[['Spotify Streams', 'YouTube Views', 'TikTok Views', 'Soundcloud Streams', 'Pandora Streams', 'Shazam Counts', 'AirPlay Spins']]\n",
        "y = df['Track Score']\n",
        "\n",
        "# Split the data into training and testing sets\n",
        "X_train, X_test, y_train, y_test = train_test_split(X, y, test_size=0.3, random_state=42)"
      ]
    },
    {
      "cell_type": "markdown",
      "metadata": {
        "id": "N-fIpXmVQ3cT"
      },
      "source": [
        "## Importing Data and Selecting Significant Features\n",
        "The code reads data from the data.csv file which contains data attributed to Spotify.\n",
        "The next line of code selects specific columns of interest, which are namely the track, the album it is in, the artist who produced the track, the date of its release, the track's all time rank, its track score, the amount of plays/streams in spotify, youtube, tik-tok, soundcloud, and pandora, the amount of times the track is found in a user's playlist, the amount of times the playlist is accessed by other users, and finally if the track is an explicit track."
      ]
    },
    {
      "cell_type": "code",
      "source": [
        "df = pd.read_csv('data.csv', encoding='latin-1')\n",
        "df = df[['Track', 'Album Name', 'Artist', 'Release Date', 'All Time Rank', 'Track Score', 'Spotify Streams', 'Spotify Playlist Count', 'Spotify Playlist Reach', 'Spotify Popularity', 'YouTube Views', 'TikTok Views', 'Soundcloud Streams', 'Pandora Streams', 'Shazam Counts', 'AirPlay Spins', 'Explicit Track']]\n",
        "df.columns = df.columns.str.strip()"
      ],
      "metadata": {
        "id": "Ri1NnI4b31ce"
      },
      "execution_count": null,
      "outputs": []
    },
    {
      "cell_type": "markdown",
      "source": [
        "## Assigning Numerical Columns\n",
        "\n",
        "A list is produced that lists down what columns are deemed quantifiable. Notably, the track's all-time rank, track score, spotify/youtube/soundcloud/pandora/shazam/airplay plays/streams which will then be converted to an appropriate data type (float). The next line strips any whitespace from the numerical column names."
      ],
      "metadata": {
        "id": "BfHHJV3T3-R_"
      }
    },
    {
      "cell_type": "code",
      "source": [
        "numerical_columns = [\n",
        "    'All Time Rank', 'Track Score', 'Spotify Streams', 'YouTube Views', 'TikTok Views', 'Soundcloud Streams', 'Pandora Streams', 'Shazam Counts', 'AirPlay Spins'\n",
        "]\n",
        "\n",
        "for column in numerical_columns:\n",
        "    df[column] = df[column].astype(str).str.replace(',', '').astype(float)"
      ],
      "metadata": {
        "id": "ctwlpW6X4r5D"
      },
      "execution_count": null,
      "outputs": []
    },
    {
      "cell_type": "markdown",
      "source": [
        "## Null Checking and Replacing\n",
        "The code checks if there are any missing values per track and replaces the missing values with 0 to avoid null returns."
      ],
      "metadata": {
        "id": "-3lLRSwv4600"
      }
    },
    {
      "cell_type": "code",
      "source": [
        "df.fillna(0, inplace=True)"
      ],
      "metadata": {
        "id": "boHNzKdJ5eE2"
      },
      "execution_count": null,
      "outputs": []
    },
    {
      "cell_type": "markdown",
      "source": [
        "## Categorizing Columns and Training\n",
        "\n",
        "The code then extracts the relevant columns that will be used for training the model, which will be then split accordingly. The features DataFrame includes all columns except the target column (Spotify Popularity). The target Series includes only the Spotify Track Score column, which is what we want to predict. We would want a 70-30 data split where 70% of the data is used for training and 30% of the data will be used for testing. The random stat 42 Ensures reproducibility by setting a seed for the random number generator"
      ],
      "metadata": {
        "id": "VJkXbqsn6h3v"
      }
    },
    {
      "cell_type": "code",
      "source": [
        "# Extract relevant columns\n",
        "X = df[['Spotify Streams', 'YouTube Views', 'TikTok Views', 'Soundcloud Streams', 'Pandora Streams', 'Shazam Counts', 'AirPlay Spins']]\n",
        "y = df['Track Score']\n",
        "\n",
        "# Split the data into training and testing sets\n",
        "X_train, X_test, y_train, y_test = train_test_split(X, y, test_size=0.3, random_state=42)"
      ],
      "metadata": {
        "id": "XwRIZ4xe9CTC"
      },
      "execution_count": null,
      "outputs": []
    },
    {
      "cell_type": "markdown",
      "source": [
        "# Methodology"
      ],
      "metadata": {
        "id": "Ev_iQT5wLUc3"
      }
    },
    {
      "cell_type": "markdown",
      "source": [
        "## Data Standardization and Model Training\n",
        "\n",
        "This notebook demonstrates the process of cleaning, standardizing, and training a Gaussian Naive Bayes model on a dataset."
      ],
      "metadata": {
        "id": "YJXGMFipjzZr"
      }
    },
    {
      "cell_type": "code",
      "execution_count": null,
      "metadata": {
        "id": "YefaP02IQ3cT",
        "colab": {
          "base_uri": "https://localhost:8080/"
        },
        "outputId": "2ed64945-985f-4c48-8a97-b72784316746"
      },
      "outputs": [
        {
          "output_type": "stream",
          "name": "stdout",
          "text": [
            "NaN values in y_train: 0\n"
          ]
        },
        {
          "output_type": "stream",
          "name": "stderr",
          "text": [
            "/usr/local/lib/python3.10/dist-packages/sklearn/preprocessing/_discretization.py:248: FutureWarning: In version 1.5 onwards, subsample=200_000 will be used by default. Set subsample explicitly to silence this warning in the mean time. Set subsample=None to disable subsampling explicitly.\n",
            "  warnings.warn(\n"
          ]
        }
      ],
      "source": [
        "# Standardize the data\n",
        "def clean_and_convert(df):\n",
        "    df = df.copy()\n",
        "    for column in df.columns:\n",
        "        if df[column].dtype == 'object':\n",
        "            df.loc[:, column] = df[column].str.replace(',', '')\n",
        "            df.loc[:, column] = pd.to_numeric(df[column], errors='coerce')\n",
        "    return df\n",
        "\n",
        "train_data = pd.concat([X_train, y_train], axis=1)\n",
        "\n",
        "z_scores = np.abs(stats.zscore(X_train))\n",
        "train_data_clean = train_data[(z_scores < 3).all(axis=1)]\n",
        "X_train_clean = X_train[(z_scores < 3).all(axis=1)]\n",
        "y_train_clean = y_train[(z_scores < 3).all(axis=1)]\n",
        "\n",
        "scaler = StandardScaler()\n",
        "X_train_scaled = scaler.fit_transform(X_train)\n",
        "X_test_scaled = scaler.transform(X_test)\n",
        "\n",
        "# Check for NaN values\n",
        "print(f\"NaN values in y_train: {y_train.isna().sum()}\")\n",
        "\n",
        "# Handle NaN values if any\n",
        "if y_train.isna().sum() > 0:\n",
        "    y_train = y_train.dropna()\n",
        "    X_train = X_train.loc[y_train.index]\n",
        "    X_train_scaled = scaler.fit_transform(X_train)\n",
        "\n",
        "# Ensure consistent sample sizes\n",
        "assert X_train_scaled.shape[0] == y_train.shape[0], \"Inconsistent number of samples between X_train and y_train\"\n",
        "\n",
        "# Binning the target variable\n",
        "n_bins = 10  # Define the number of bins\n",
        "kbins = KBinsDiscretizer(n_bins=n_bins, encode='ordinal', strategy='uniform')\n",
        "\n",
        "# Fit and transform the training and testing target data\n",
        "y_train_binned = kbins.fit_transform(y_train.values.reshape(-1, 1)).ravel()\n",
        "y_test_binned = kbins.transform(y_test.values.reshape(-1, 1)).ravel()\n",
        "\n",
        "# Train the Gaussian Naive Bayes model\n",
        "nb_model = GaussianNB()\n",
        "nb_model.fit(X_train_scaled, y_train_binned)\n",
        "y_pred = nb_model.predict(X_test_scaled)\n",
        "\n",
        "\n"
      ]
    },
    {
      "cell_type": "markdown",
      "source": [
        "## Data Cleaning and Conversion\n",
        "First, The researchers defined a function to clean and convert the data. This function removes commas from string columns and converts them to numeric values."
      ],
      "metadata": {
        "id": "_Cd1Ft8t9-bm"
      }
    },
    {
      "cell_type": "code",
      "execution_count": null,
      "metadata": {
        "id": "bU3P-BZfQ3cX"
      },
      "outputs": [],
      "source": [
        "# Standardize the data\n",
        "def clean_and_convert(df):\n",
        "    df = df.copy()\n",
        "    for column in df.columns:\n",
        "        if df[column].dtype == 'object':\n",
        "            df.loc[:, column] = df[column].str.replace(',', '')\n",
        "            df.loc[:, column] = pd.to_numeric(df[column], errors='coerce')\n",
        "    return df"
      ]
    },
    {
      "cell_type": "markdown",
      "source": [
        "## Combine Training Data\n",
        "\n",
        "Next, the code combines the features (`X_train`) and target (`y_train`) into a single DataFrame for easier processing."
      ],
      "metadata": {
        "id": "z__B9R_5j4vG"
      }
    },
    {
      "cell_type": "code",
      "source": [
        "train_data = pd.concat([X_train, y_train], axis=1)"
      ],
      "metadata": {
        "id": "qykoB-6hj7Nm"
      },
      "execution_count": null,
      "outputs": []
    },
    {
      "cell_type": "markdown",
      "source": [
        "## Remove Outliers\n",
        "\n",
        "The code then calculate the z-scores of the training data and remove any rows where the z-score is greater than 3, which helps in removing outliers."
      ],
      "metadata": {
        "id": "yTZ88_6lj7yp"
      }
    },
    {
      "cell_type": "code",
      "source": [
        "z_scores = np.abs(stats.zscore(X_train))\n",
        "train_data_clean = train_data[(z_scores < 3).all(axis=1)]\n",
        "X_train_clean = X_train[(z_scores < 3).all(axis=1)]\n",
        "y_train_clean = y_train[(z_scores < 3).all(axis=1)]"
      ],
      "metadata": {
        "id": "Slu_Op0ikAXC"
      },
      "execution_count": null,
      "outputs": []
    },
    {
      "cell_type": "markdown",
      "source": [
        "## Standardize Features\n",
        "\n",
        "The researchers use the `StandardScaler` to standardize the features in the training and test datasets."
      ],
      "metadata": {
        "id": "4oapWrM_kDK1"
      }
    },
    {
      "cell_type": "code",
      "source": [
        "scaler = StandardScaler()\n",
        "X_train_scaled = scaler.fit_transform(X_train)\n",
        "X_test_scaled = scaler.transform(X_test)"
      ],
      "metadata": {
        "id": "0hoEmeBkkFK2"
      },
      "execution_count": null,
      "outputs": []
    },
    {
      "cell_type": "markdown",
      "source": [
        "## Handle Missing Values\n",
        "\n",
        "If there are any NaN values in the target variable (`y_train`), those rows are dropped and ensured the feature set (`X_train`) is consistent with the target variable."
      ],
      "metadata": {
        "id": "k7PcKIrgkHYA"
      }
    },
    {
      "cell_type": "code",
      "source": [
        "# Handle NaN values if any\n",
        "if y_train.isna().sum() > 0:\n",
        "    y_train = y_train.dropna()\n",
        "    X_train = X_train.loc[y_train.index]\n",
        "    X_train_scaled = scaler.fit_transform(X_train)"
      ],
      "metadata": {
        "id": "7kCIETi8kKN_"
      },
      "execution_count": null,
      "outputs": []
    },
    {
      "cell_type": "markdown",
      "source": [
        "## Ensure Consistent Sample Sizes\n",
        "\n",
        "The code will then assert that the number of samples in the standardized training features matches the number of samples in the target variable."
      ],
      "metadata": {
        "id": "lbZm8ehRkMO0"
      }
    },
    {
      "cell_type": "code",
      "source": [
        "# Ensure consistent sample sizes\n",
        "assert X_train_scaled.shape[0] == y_train.shape[0], \"Inconsistent number of samples between X_train and y_train\""
      ],
      "metadata": {
        "id": "8L7ajBh5kODL"
      },
      "execution_count": null,
      "outputs": []
    },
    {
      "cell_type": "markdown",
      "source": [
        "## Binning the Target Variable\n",
        "\n",
        "The researchers used `KBinsDiscretizer` to bin the target variable into a specified number of bins. This helps in transforming continuous target values into discrete bins."
      ],
      "metadata": {
        "id": "ikAvEXifkk1J"
      }
    },
    {
      "cell_type": "code",
      "source": [
        "# Binning the target variable\n",
        "n_bins = 10  # Define the number of bins\n",
        "kbins = KBinsDiscretizer(n_bins=n_bins, encode='ordinal', strategy='uniform')\n",
        "\n",
        "# Fit and transform the training and testing target data\n",
        "y_train_binned = kbins.fit_transform(y_train.values.reshape(-1, 1)).ravel()\n",
        "y_test_binned = kbins.transform(y_test.values.reshape(-1, 1)).ravel()"
      ],
      "metadata": {
        "id": "zhEZq4Oqkn1r",
        "colab": {
          "base_uri": "https://localhost:8080/"
        },
        "outputId": "01272f75-c6b7-4118-e6d0-55319b553b00"
      },
      "execution_count": null,
      "outputs": [
        {
          "output_type": "stream",
          "name": "stderr",
          "text": [
            "/usr/local/lib/python3.10/dist-packages/sklearn/preprocessing/_discretization.py:248: FutureWarning: In version 1.5 onwards, subsample=200_000 will be used by default. Set subsample explicitly to silence this warning in the mean time. Set subsample=None to disable subsampling explicitly.\n",
            "  warnings.warn(\n"
          ]
        }
      ]
    },
    {
      "cell_type": "markdown",
      "source": [
        "## Train the Gaussian Naive Bayes Model\n",
        "\n",
        "Finally, we train a Gaussian Naive Bayes model using the standardized training features and the binned target variable. We then use the trained model to make predictions on the test data."
      ],
      "metadata": {
        "id": "81SqIYykkpUz"
      }
    },
    {
      "cell_type": "code",
      "source": [
        "# Train the Gaussian Naive Bayes model\n",
        "nb_model = GaussianNB()\n",
        "nb_model.fit(X_train_scaled, y_train_binned)\n",
        "y_pred = nb_model.predict(X_test_scaled)"
      ],
      "metadata": {
        "id": "vslyX_ZIkqvV"
      },
      "execution_count": null,
      "outputs": []
    },
    {
      "cell_type": "markdown",
      "source": [
        "## Confusion Matrix\n",
        "\n",
        "The researchers then plotted a confusion matrix based on the trained model where the Y-axis is the actual data while the X-axis is the predicted data by running the actual data through the model."
      ],
      "metadata": {
        "id": "wG3Kwkkd_PPT"
      }
    },
    {
      "cell_type": "code",
      "execution_count": null,
      "metadata": {
        "id": "1f7WQgeIQ3cU",
        "outputId": "551e4cdd-87b1-42df-d94f-1885809495ea",
        "colab": {
          "base_uri": "https://localhost:8080/",
          "height": 780
        }
      },
      "outputs": [
        {
          "output_type": "stream",
          "name": "stdout",
          "text": [
            "Confusion Matrix:\n",
            "[[694  57  10  16 484  17   1]\n",
            " [ 35  15   4   6   7   5   0]\n",
            " [  7   2   3   3   1   1   0]\n",
            " [  2   1   2   2   0   2   0]\n",
            " [  1   0   0   0   1   0   0]\n",
            " [  0   1   0   0   0   0   0]\n",
            " [  0   0   0   0   0   0   0]]\n"
          ]
        },
        {
          "output_type": "display_data",
          "data": {
            "text/plain": [
              "<Figure size 1000x700 with 2 Axes>"
            ],
            "image/png": "[encoded data removed]"
          },
          "metadata": {}
        }
      ],
      "source": [
        "# Evaluate the model using a confusion matrix\n",
        "conf_matrix = confusion_matrix(y_test_binned, y_pred)\n",
        "print(\"Confusion Matrix:\")\n",
        "print(conf_matrix)\n",
        "\n",
        "# Plot the confusion matrix\n",
        "plt.figure(figsize=(10, 7))\n",
        "sns.heatmap(conf_matrix, annot=True, fmt='d', cmap='Blues')\n",
        "plt.xlabel('Predicted')\n",
        "plt.ylabel('Actual')\n",
        "plt.title('Confusion Matrix')\n",
        "plt.show()"
      ]
    },
    {
      "cell_type": "code",
      "source": [
        "# Print additional evaluation metrics\n",
        "print(\"\\nClassification Report:\")\n",
        "print(classification_report(y_test_binned, y_pred, zero_division=1))\n",
        "print(\"\\nAccuracy Score:\")\n",
        "print(accuracy_score(y_test_binned, y_pred))"
      ],
      "metadata": {
        "colab": {
          "base_uri": "https://localhost:8080/"
        },
        "id": "lGn1fIz30zXj",
        "outputId": "b6fad937-39b6-4586-cd3e-2c5106d81bbe"
      },
      "execution_count": null,
      "outputs": [
        {
          "output_type": "stream",
          "name": "stdout",
          "text": [
            "\n",
            "Classification Report:\n",
            "              precision    recall  f1-score   support\n",
            "\n",
            "         0.0       0.94      0.54      0.69      1279\n",
            "         1.0       0.20      0.21      0.20        72\n",
            "         2.0       0.16      0.18      0.17        17\n",
            "         3.0       0.07      0.22      0.11         9\n",
            "         4.0       0.00      0.50      0.00         2\n",
            "         5.0       0.00      0.00      1.00         1\n",
            "         7.0       0.00      1.00      0.00         0\n",
            "\n",
            "    accuracy                           0.52      1380\n",
            "   macro avg       0.20      0.38      0.31      1380\n",
            "weighted avg       0.88      0.52      0.65      1380\n",
            "\n",
            "\n",
            "Accuracy Score:\n",
            "0.5181159420289855\n"
          ]
        }
      ]
    },
    {
      "cell_type": "markdown",
      "metadata": {
        "id": "iztWdQsSQ3cX"
      },
      "source": [
        "## Good Features\n",
        " If the correlation analysis shows a significant relationship between the features and the target, and the model evaluation shows good performance, then these features are likely good predictors."
      ]
    },
    {
      "cell_type": "code",
      "source": [
        "\n",
        "result = permutation_importance(nb_model, X_test, y_test_binned, n_repeats=10, random_state=42, n_jobs=-1)\n",
        "# Create a dataframe with feature names and importances\n",
        "feature_importance_df = pd.DataFrame({'Feature': X.columns, 'Importance': result.importances_mean})\n",
        "# Sort the dataframe by importance in descending order\n",
        "feature_importance_df = feature_importance_df.sort_values(by='Importance', ascending=False)\n",
        "# Plot the feature importances\n",
        "plt.figure(figsize=(12, 8))\n",
        "sns.barplot(x='Importance', y='Feature', data=feature_importance_df)\n",
        "plt.title('Feature Importances')\n",
        "plt.xlabel('Importance')\n",
        "plt.ylabel('Feature')\n",
        "plt.show()\n"
      ],
      "metadata": {
        "colab": {
          "base_uri": "https://localhost:8080/",
          "height": 753
        },
        "id": "aG4FETuuccao",
        "outputId": "b2911d4a-4475-48d9-df6a-47ffcc60f837"
      },
      "execution_count": null,
      "outputs": [
        {
          "output_type": "stream",
          "name": "stderr",
          "text": [
            "/usr/local/lib/python3.10/dist-packages/sklearn/base.py:458: UserWarning: X has feature names, but GaussianNB was fitted without feature names\n",
            "  warnings.warn(\n"
          ]
        },
        {
          "output_type": "display_data",
          "data": {
            "text/plain": [
              "<Figure size 1200x800 with 1 Axes>"
            ],
            "image/png": "[encoded data removed]"
          },
          "metadata": {}
        }
      ]
    },
    {
      "cell_type": "markdown",
      "metadata": {
        "id": "iJAgpBnlQ3cZ"
      },
      "source": [
        "The popularity of Spotify tracks can be significantly influenced by their presence on TikTok. When a song is used in a viral TikTok video, it often leads to a surge in likes, views, and posts on the platform. This increased visibility can translate to higher streaming numbers on Spotify, as users seek out the full track after encountering it on TikTok. The correlation between TikTok activity and Spotify popularity underscores the power of social media in shaping music trends and driving listener engagement. As a result, artists and marketers are increasingly leveraging TikTok to boost their tracks' performance on streaming platforms like Spotify."
      ]
    },
    {
      "cell_type": "markdown",
      "source": [
        "## Classification Report"
      ],
      "metadata": {
        "id": "uP7DL6hsDcDM"
      }
    },
    {
      "cell_type": "code",
      "source": [
        "\n",
        "# Print classification report and accuracy\n",
        "print(\"Classification Report:\")\n",
        "print(classification_report(y_test_binned, y_pred, zero_division=1))\n",
        "\n",
        "accuracy = accuracy_score(y_test_binned, y_pred)\n",
        "print(f'Accuracy: {accuracy}')\n"
      ],
      "metadata": {
        "colab": {
          "base_uri": "https://localhost:8080/"
        },
        "id": "dLesncOwchan",
        "outputId": "8413eef6-5dcb-4875-b4c2-5d1c184c4321"
      },
      "execution_count": null,
      "outputs": [
        {
          "output_type": "stream",
          "name": "stdout",
          "text": [
            "Classification Report:\n",
            "              precision    recall  f1-score   support\n",
            "\n",
            "         0.0       0.94      0.54      0.69      1279\n",
            "         1.0       0.20      0.21      0.20        72\n",
            "         2.0       0.16      0.18      0.17        17\n",
            "         3.0       0.07      0.22      0.11         9\n",
            "         4.0       0.00      0.50      0.00         2\n",
            "         5.0       0.00      0.00      1.00         1\n",
            "         7.0       0.00      1.00      0.00         0\n",
            "\n",
            "    accuracy                           0.52      1380\n",
            "   macro avg       0.20      0.38      0.31      1380\n",
            "weighted avg       0.88      0.52      0.65      1380\n",
            "\n",
            "Accuracy: 0.5181159420289855\n"
          ]
        }
      ]
    },
    {
      "cell_type": "markdown",
      "metadata": {
        "id": "-BM66tLRQ3cZ"
      },
      "source": [
        "\n",
        "The Accuracy Indicates that 50% of the total predictions were correct.\n",
        "Our Macro Average provides an sub-average performance metric that treats all classes equally, showing a balanced view of the model's performance across all classes.\n",
        "Our Weighted Average provides an average performance metric that takes into account the number of instances for each class, giving a more realistic view of the model's performance, especially when the class distribution is imbalanced.\n"
      ]
    },
    {
      "cell_type": "markdown",
      "source": [
        "# Results and Analysis"
      ],
      "metadata": {
        "id": "AocEnWCgDoLf"
      }
    },
    {
      "cell_type": "markdown",
      "source": [
        "## Model Performance\n",
        "\n",
        "Based on the results, the Gaussian Naive-Bayes Model gave out an accuracy of 52% as indicated by the classification report and the confusion matrix. The confusion matrix achieved the following:\n",
        "\n",
        "\n",
        "*   Majority of correct items are rated as 0\n",
        "*   The model struggling to predict higher track scores, with precision and recall values significantly dropping after the score of 1.\n",
        "\n"
      ],
      "metadata": {
        "id": "9_FWrFEbEQQI"
      }
    },
    {
      "cell_type": "markdown",
      "source": [
        "## Confusion Matrix amd Classification Report\n",
        "\n",
        "For the Confusion Matrix, most of the predictions were found around the lower track scores, with higher track scores being less predicted and oftentimes predicted incorrectly. The weighted average for precision, recall, and F1 score were 0.88, 0.52, and 0.65 respectively. These tells us that the Model is good at predicting lower overall scores, but struggles to compute for the ones that are rated higher."
      ],
      "metadata": {
        "id": "jRUdrKbqF47H"
      }
    },
    {
      "cell_type": "markdown",
      "source": [
        "## Recommendations\n",
        "\n",
        "To potentially enhance the performance of the model, the researchers suggest the inclusion of more relevant features, or transform existing ones. Furthermore, a more complex model is needed for data that are similar to the one analyzed in this study. Finally, a more balanced dataset can give more procedureally balanced results.\n",
        "\n"
      ],
      "metadata": {
        "id": "1v1NcKzEG3BR"
      }
    },
    {
      "cell_type": "markdown",
      "source": [
        "# Conclusion\n",
        "\n",
        "In conclusion, this Machine Learning study demonstrated the process of cleaning, standardizing then training a Gaussian Naive-Bayes model. The model gave an accuracy of 52%, showcasing the complexity and unpredictability of track popularity or track score. The findings shows the significant impact of other platforms, most notably **Tik-Tok**, being a strong indicator for a song's popularity. This underscores the importance of leveraging social media to enhance music visibility and engagement in the streaming era."
      ],
      "metadata": {
        "id": "K_2AY4bGA4pc"
      }
    }
  ],
  "metadata": {
    "kernelspec": {
      "display_name": "Python 3",
      "language": "python",
      "name": "python3"
    },
    "language_info": {
      "codemirror_mode": {
        "name": "ipython",
        "version": 3
      },
      "file_extension": ".py",
      "mimetype": "text/x-python",
      "name": "python",
      "nbconvert_exporter": "python",
      "pygments_lexer": "ipython3",
      "version": "3.8.8"
    },
    "colab": {
      "provenance": [],
      "toc_visible": true
    }
  },
  "nbformat": 4,
  "nbformat_minor": 0
}